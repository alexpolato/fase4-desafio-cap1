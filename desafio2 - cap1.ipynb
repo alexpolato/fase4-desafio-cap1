{
 "cells": [
  {
   "cell_type": "markdown",
   "metadata": {},
   "source": [
    "## Instalação das bibliotecas utilizadas para a analise e definição do dataframe"
   ]
  },
  {
   "cell_type": "code",
   "execution_count": null,
   "metadata": {},
   "outputs": [],
   "source": [
    "%pip install requests\n",
    "%pip install pandas openpyxl\n",
    "%pip install scipy\n",
    "%pip install matplotlib\n",
    "%pip install seaborn"
   ]
  },
  {
   "cell_type": "code",
   "execution_count": 3,
   "metadata": {},
   "outputs": [
    {
     "name": "stdout",
     "output_type": "stream",
     "text": [
      "  Região País          Estado       Data       FormaPagto  \\\n",
      "0    Nordeste           Piauí 2023-11-17   Cartão Crédito   \n",
      "1     Sudeste       São Paulo 2023-10-13  Boleto Bancário   \n",
      "2     Sudeste    Minas Gerais 2023-12-24         Dinheiro   \n",
      "3     Sudeste  Espírito Santo 2023-12-19         Dinheiro   \n",
      "4         Sul          Paraná 2023-12-05    Cartão Débito   \n",
      "\n",
      "  Sexo Informado Cliente  Idade  valor ticket médio  numero pedido  \n",
      "0                      F     22                 102       37380646  \n",
      "1                      M     21                  32       35870530  \n",
      "2                      M     22                 101       38158515  \n",
      "3                      F     20                  70       36341482  \n",
      "4                      M     21                  67       38416338  \n"
     ]
    }
   ],
   "source": [
    "import pandas as pd\n",
    "\n",
    "# Defina o caminho do arquivo com barras normais\n",
    "caminho_arquivo = \"C:/Users/alexa/OneDrive/Anexos/Fiap/projeto_fase4/AtividadeCap1/assetsCap1/Cap 01 Asset_PBL_Perfil_Clientes_Top_ECommerce.xlsx\"\n",
    "\n",
    "# Carregar o arquivo Excel\n",
    "df = pd.read_excel(caminho_arquivo, sheet_name='sheet')\n",
    "print(df.head())"
   ]
  },
  {
   "cell_type": "code",
   "execution_count": 4,
   "metadata": {},
   "outputs": [
    {
     "data": {
      "text/html": [
       "<div>\n",
       "<style scoped>\n",
       "    .dataframe tbody tr th:only-of-type {\n",
       "        vertical-align: middle;\n",
       "    }\n",
       "\n",
       "    .dataframe tbody tr th {\n",
       "        vertical-align: top;\n",
       "    }\n",
       "\n",
       "    .dataframe thead th {\n",
       "        text-align: right;\n",
       "    }\n",
       "</style>\n",
       "<table border=\"1\" class=\"dataframe\">\n",
       "  <thead>\n",
       "    <tr style=\"text-align: right;\">\n",
       "      <th></th>\n",
       "      <th>Data</th>\n",
       "      <th>Idade</th>\n",
       "      <th>valor ticket médio</th>\n",
       "      <th>numero pedido</th>\n",
       "    </tr>\n",
       "  </thead>\n",
       "  <tbody>\n",
       "    <tr>\n",
       "      <th>count</th>\n",
       "      <td>47835</td>\n",
       "      <td>47835.000000</td>\n",
       "      <td>47835.000000</td>\n",
       "      <td>4.783500e+04</td>\n",
       "    </tr>\n",
       "    <tr>\n",
       "      <th>mean</th>\n",
       "      <td>2023-11-22 15:59:23.875823104</td>\n",
       "      <td>39.486108</td>\n",
       "      <td>236.401129</td>\n",
       "      <td>3.692327e+07</td>\n",
       "    </tr>\n",
       "    <tr>\n",
       "      <th>min</th>\n",
       "      <td>2023-09-01 00:00:00</td>\n",
       "      <td>0.000000</td>\n",
       "      <td>-9876.000000</td>\n",
       "      <td>3.524540e+07</td>\n",
       "    </tr>\n",
       "    <tr>\n",
       "      <th>25%</th>\n",
       "      <td>2023-10-22 00:00:00</td>\n",
       "      <td>27.000000</td>\n",
       "      <td>118.000000</td>\n",
       "      <td>3.608770e+07</td>\n",
       "    </tr>\n",
       "    <tr>\n",
       "      <th>50%</th>\n",
       "      <td>2023-11-17 00:00:00</td>\n",
       "      <td>38.000000</td>\n",
       "      <td>183.000000</td>\n",
       "      <td>3.692539e+07</td>\n",
       "    </tr>\n",
       "    <tr>\n",
       "      <th>75%</th>\n",
       "      <td>2023-12-16 00:00:00</td>\n",
       "      <td>52.000000</td>\n",
       "      <td>345.000000</td>\n",
       "      <td>3.776525e+07</td>\n",
       "    </tr>\n",
       "    <tr>\n",
       "      <th>max</th>\n",
       "      <td>2024-05-01 00:00:00</td>\n",
       "      <td>987.000000</td>\n",
       "      <td>690.000000</td>\n",
       "      <td>3.861223e+07</td>\n",
       "    </tr>\n",
       "    <tr>\n",
       "      <th>std</th>\n",
       "      <td>NaN</td>\n",
       "      <td>16.612886</td>\n",
       "      <td>166.329410</td>\n",
       "      <td>9.699485e+05</td>\n",
       "    </tr>\n",
       "  </tbody>\n",
       "</table>\n",
       "</div>"
      ],
      "text/plain": [
       "                                Data         Idade  valor ticket médio  \\\n",
       "count                          47835  47835.000000        47835.000000   \n",
       "mean   2023-11-22 15:59:23.875823104     39.486108          236.401129   \n",
       "min              2023-09-01 00:00:00      0.000000        -9876.000000   \n",
       "25%              2023-10-22 00:00:00     27.000000          118.000000   \n",
       "50%              2023-11-17 00:00:00     38.000000          183.000000   \n",
       "75%              2023-12-16 00:00:00     52.000000          345.000000   \n",
       "max              2024-05-01 00:00:00    987.000000          690.000000   \n",
       "std                              NaN     16.612886          166.329410   \n",
       "\n",
       "       numero pedido  \n",
       "count   4.783500e+04  \n",
       "mean    3.692327e+07  \n",
       "min     3.524540e+07  \n",
       "25%     3.608770e+07  \n",
       "50%     3.692539e+07  \n",
       "75%     3.776525e+07  \n",
       "max     3.861223e+07  \n",
       "std     9.699485e+05  "
      ]
     },
     "execution_count": 4,
     "metadata": {},
     "output_type": "execute_result"
    }
   ],
   "source": [
    "df.describe()"
   ]
  },
  {
   "cell_type": "markdown",
   "metadata": {},
   "source": [
    "## DESAFIO 1: 1.2 Primeiro desafio: Analisando gráfico para a tomada de decisão"
   ]
  },
  {
   "cell_type": "markdown",
   "metadata": {},
   "source": [
    "#### 1ª pergunta: Quais foram as duas categorias que tiveram a melhor performance de variação semestral móvel durante o período?"
   ]
  },
  {
   "cell_type": "markdown",
   "metadata": {},
   "source": [
    "Resposta: As duas categorias com melhor performance foram as: \"Alimentos e Bebidas\" com uma variação movél de 32,1%, e em segundo lugar a de \"Saúde\" com 28,2%"
   ]
  },
  {
   "cell_type": "markdown",
   "metadata": {},
   "source": [
    "#### 2ª pergunta: Qual foi a categoria que teve o pior desempenho de variação semestral móvel durante o período?"
   ]
  },
  {
   "cell_type": "markdown",
   "metadata": {},
   "source": [
    "Resposta: A categoria com a pior variação movél foi \"Telefonia\", com um valor de -29,9%"
   ]
  },
  {
   "cell_type": "markdown",
   "metadata": {},
   "source": [
    "#### 3ª pergunta: Analisando o gráfico apresentado, o que é possível falar sobre a categoria “Alimentos e Bebidas”? Amplifique sua análise associando sua resposta com o momento da economia do País."
   ]
  },
  {
   "cell_type": "markdown",
   "metadata": {},
   "source": [
    "Resposta: A categoria “Alimentos e Bebidas” foi a que apresentou a maior variação em número de pedidos (Var% Pedidos: 32,1%), mas o crescimento do volume bruto de vendas (Var% GMV: 6,9%) foi relativamente modesto. Isso sugere que os pedidos estão gerando uma receita média mais baixa por unidade. Esse comportamento reflete o perfil dos produtos dessa categoria, como refeições prontas e bebidas, que possuem valores individuais menores, mas são consumidos com frequência e em grandes volumes. Assim, é provável que os clientes estejam optando por pedir suas refeições online, o que explica o aumento expressivo no número de pedidos."
   ]
  },
  {
   "cell_type": "markdown",
   "metadata": {},
   "source": [
    "Esse crescimento pode estar relacionado à consolidação do trabalho remoto após a pandemia, que trouxe maior liberdade para trabalhar de casa. Com isso, as pessoas que antes almoçavam em restaurantes durante o expediente agora estão pedindo suas refeições por delivery. Além disso, quase todos os restaurantes passaram a oferecer essa opção, tornando o acesso mais fácil e prático. Esse cenário mostra como mudanças no comportamento e na rotina da sociedade, associadas à digitalização dos serviços de entrega, impulsionaram essa categoria no e-commerce."
   ]
  },
  {
   "cell_type": "markdown",
   "metadata": {},
   "source": [
    "#### 4ª pergunta: Analisando o gráfico apresentado, o que é possível falar sobre a categoria “Informática”? Amplifique sua análise associando sua resposta com o momento da economia do País."
   ]
  },
  {
   "cell_type": "markdown",
   "metadata": {},
   "source": [
    "Resposta: A categoria “Informática” apresentou uma queda significativa tanto no Var% GMV (-19,4%) quanto no Var% Pedidos (-17,7%), indicando uma redução expressiva na demanda por esses produtos. Esses números mostram que os clientes estão comprando menos itens dessa categoria, o que pode ser reflexo de um mercado já saturado ou da priorização de outras despesas consideradas mais urgentes. "
   ]
  },
  {
   "cell_type": "markdown",
   "metadata": {},
   "source": [
    "Esse comportamento pode ser explicado pelo cenário econômico do País, marcado por  taxas de inflação expressivas no período analisado, que comprometeram o poder de compra do País. Em tempos de maior restrição financeira, os consumidores tendem a focar seus gastos em categorias essenciais, como alimentos, saúde e bem-estar, enquanto produtos relacionados à informática, que geralmente possuem um valor mais elevado e não são itens de necessidade imediata, acabam sendo deixados de lado."
   ]
  },
  {
   "cell_type": "markdown",
   "metadata": {},
   "source": [
    "#### 5ª pergunta: Analisando o gráfico apresentado, faça uma análise descritiva destacando as principais descobertas feitas sobre as informações existentes no gráfico e, depois disso, recomende algumas ações que podem amplificar a venda da plataforma de e-commerce das Melhores Compras. Em qual categoria você acredita que a empresa pode melhorar o desempenho de acordo com o contexto atual do momento que vivemos hoje? Lembre-se de que o seu público não estará ao vivo e você precisará fornecer informações mais detalhadas."
   ]
  },
  {
   "cell_type": "markdown",
   "metadata": {},
   "source": [
    "1 - Análise descritiva das principais descobertas:\n",
    "O gráfico destaca uma variedade de comportamentos distintos entre as categorias do e-commerce no período analisado (1º semestre de 2023 vs. 1º semestre de 2024). Algumas categorias se sobressaíram, enquanto outras enfrentaram quedas acentuadas:\n",
    "\n",
    "Categorias com maior crescimento em pedidos:\n",
    "\n",
    "“Alimentos e Bebidas” foi a categoria com o maior crescimento em número de pedidos (Var% Pedidos: 32,1%), embora o aumento do GMV (6,9%) tenha sido mais modesto. Isso sugere que a categoria é impulsionada por produtos de menor ticket médio, mas com alta frequência de compra.\n",
    "“Saúde” (Var% GMV: 20% e Var% Pedidos: 28,2%) e “Perfumaria e Cosméticos” (Var% GMV: 11,5% e Var% Pedidos: 24,5%) também apresentaram desempenhos positivos, indicando que os consumidores estão priorizando itens relacionados ao bem-estar e cuidados pessoais.\n",
    "Categorias em queda:\n",
    "\n",
    "“Telefonia” (Var% GMV: -32,7%; Var% Pedidos: -29,9%) e “Informática” (Var% GMV: -19,4%; Var% Pedidos: -17,7%) apresentaram as maiores quedas, refletindo uma menor demanda por produtos de maior valor agregado, possivelmente devido à restrição do poder de compra e à priorização de necessidades básicas.\n",
    "Categorias com desempenho moderado:\n",
    "\n",
    "“Esporte e Lazer” (Var% GMV: 7,9%; Var% Pedidos: 21,3%) e “Moda e Acessórios” (Var% GMV: 9,6%; Var% Pedidos: 4,4%) mostram uma recuperação mais modesta, sugerindo que os consumidores ainda consideram esses itens importantes, mas com menor intensidade que as categorias essenciais."
   ]
  },
  {
   "cell_type": "markdown",
   "metadata": {},
   "source": [
    "Recomendações de ações para amplificar vendas:\n",
    "Investir nas categorias com maior crescimento:\n",
    "\n",
    "Reforçar a presença em “Alimentos e Bebidas”, aproveitando o aumento expressivo de pedidos, por meio de parcerias com restaurantes locais e promoções que incentivem pedidos maiores, como combos ou descontos em pedidos recorrentes.\n",
    "Ampliar a oferta de produtos em “Saúde” e “Perfumaria e Cosméticos”, categorias em alta, com campanhas direcionadas que promovam itens como medicamentos, suplementos e produtos de autocuidado.\n",
    "Melhorar o desempenho em categorias em queda:\n",
    "\n",
    "Para categorias como “Telefonia” e “Informática”, pode-se criar estratégias promocionais para renovar o interesse, como planos de pagamento mais acessíveis, descontos sazonais e bundles de produtos.\n",
    "Também é importante explorar alternativas como marketing de produtos refurbished (recondicionados) ou de menor custo, que atendam ao consumidor com orçamento mais limitado.\n",
    "Aproveitar categorias em crescimento moderado:\n",
    "\n",
    "Em “Esporte e Lazer”, promover itens que estejam alinhados ao bem-estar físico, como equipamentos para exercícios em casa ou acessórios para esportes ao ar livre, com foco em saúde e qualidade de vida.\n",
    "Em “Moda e Acessórios”, explorar tendências e criar promoções que atraiam consumidores interessados em renovação de estilo com preços competitivos."
   ]
  },
  {
   "cell_type": "markdown",
   "metadata": {},
   "source": [
    "Categoria com maior potencial de melhoria:\n",
    "A categoria “Informática” merece atenção especial no contexto atual. Apesar da queda expressiva, o aumento do trabalho remoto e da digitalização ainda são tendências em alta. A empresa pode explorar campanhas que posicionem seus produtos como essenciais para o home office, aprendizado online ou entretenimento, além de oferecer condições de pagamento mais flexíveis para facilitar a aquisição desses itens. Estratégias focadas em tecnologia acessível, como notebooks de entrada ou acessórios, podem atrair consumidores mesmo em um cenário econômico desafiador.\n",
    "\n",
    "Essa abordagem não só ajudará a recuperar parte da demanda perdida, mas também permitirá à plataforma reforçar sua relevância em uma categoria estratégica para o futuro."
   ]
  },
  {
   "cell_type": "markdown",
   "metadata": {},
   "source": [
    "## DESAFIO 2: 1.3  Segundo desafio: Knowledge Discovery in Databases (KDD)"
   ]
  },
  {
   "cell_type": "markdown",
   "metadata": {},
   "source": [
    "### 1)    Em relação aos dados disponibilizados, existem dados missing? Descreva o que foi encontrado.  Em situações como essa, o que é necessário ser feito?"
   ]
  },
  {
   "cell_type": "code",
   "execution_count": 5,
   "metadata": {},
   "outputs": [
    {
     "name": "stdout",
     "output_type": "stream",
     "text": [
      "Região País               0\n",
      "Estado                    0\n",
      "Data                      0\n",
      "FormaPagto                0\n",
      "Sexo Informado Cliente    0\n",
      "Idade                     0\n",
      "valor ticket médio        0\n",
      "numero pedido             0\n",
      "dtype: int64\n"
     ]
    }
   ],
   "source": [
    "# 1)    Em relação aos dados disponibilizados, existem dados missing? Descreva o que foi encontrado.  \n",
    "#       Em situações como essa, o que é necessário ser feito?\n",
    "\n",
    "df_missing = df.isnull()\n",
    "nulos_por_coluna = df_missing.sum()\n",
    "print(nulos_por_coluna)"
   ]
  },
  {
   "cell_type": "markdown",
   "metadata": {},
   "source": [
    "Com o output acima retorna a soma dos valores nulos de cada coluna dos dados disponibilizados \"Cap 01 Asset_PBL_Perfil_Clientes_Top_ECommerce\", e vemos que não possui nenhum dado faltante, então não a nada a fazer quanto a isso. Porém teremos que analisar mais a fundo, para ver se possui outliers e valores inconsistentes.\n",
    "{\\n}\n",
    "\n",
    "Caso tivesse algum dado faltante deveriamos exclui-lo ou preenche-lo com algum valor que represente de acordo com os outros valores."
   ]
  },
  {
   "cell_type": "markdown",
   "metadata": {},
   "source": [
    "### 2) Analise os dados na perspectiva da coluna idade. Existem Outliers nos dados disponibilizados? É possível identificar algo em relação ao ticket médio de vendas relacionadas a esses Outliers? Justifique sua resposta.\n"
   ]
  },
  {
   "cell_type": "markdown",
   "metadata": {},
   "source": [
    "##### Analise \"Idade\""
   ]
  },
  {
   "cell_type": "code",
   "execution_count": 19,
   "metadata": {},
   "outputs": [
    {
     "data": {
      "text/plain": [
       "count    47835.000000\n",
       "mean        39.486108\n",
       "std         16.612886\n",
       "min          0.000000\n",
       "25%         27.000000\n",
       "50%         38.000000\n",
       "75%         52.000000\n",
       "max        987.000000\n",
       "Name: Idade, dtype: float64"
      ]
     },
     "execution_count": 19,
     "metadata": {},
     "output_type": "execute_result"
    }
   ],
   "source": [
    "idade = df['Idade']\n",
    "idade.describe()"
   ]
  },
  {
   "cell_type": "markdown",
   "metadata": {},
   "source": [
    "OBS: Conseguimos analisar no código acima, que a idade minima é 0 e a maxima é 987. \n",
    "Isso no caso será preciso tratar, pois são erros, não existe pessoa com idade de 987 ou com idade 0."
   ]
  },
  {
   "cell_type": "markdown",
   "metadata": {},
   "source": [
    "Abaixo, usarei um boxplot, grafico interessante para saber a quantidade de idades divida pelos quartis (0%-25%; 25%-50%; 50%-75%; 75%-100%). Dando uma ideia da concentração das idades dos clientes, junto com outliers. "
   ]
  },
  {
   "cell_type": "code",
   "execution_count": 20,
   "metadata": {},
   "outputs": [
    {
     "data": {
      "image/png": "[encoded data removed]",
      "text/plain": [
       "<Figure size 640x480 with 1 Axes>"
      ]
     },
     "metadata": {},
     "output_type": "display_data"
    }
   ],
   "source": [
    "import matplotlib.pyplot as plt\n",
    "\n",
    "plt.boxplot(idade)\n",
    "plt.title(\"Boxplot da Idade\")\n",
    "plt.xlabel(\"Idade\")\n",
    "plt.show()\n"
   ]
  },
  {
   "cell_type": "markdown",
   "metadata": {},
   "source": [
    "OBS: Podemos ver que apresetam outliers."
   ]
  },
  {
   "cell_type": "markdown",
   "metadata": {},
   "source": [
    "##### TRATANDO OUTLIERS: Metodo do quartil"
   ]
  },
  {
   "cell_type": "markdown",
   "metadata": {},
   "source": [
    "Vamos ver pelo codigo abaixo, se temos clientes menores de 18 anos. Pelo boxplot, podemos ver que eles existem e não são outliers. "
   ]
  },
  {
   "cell_type": "code",
   "execution_count": 21,
   "metadata": {},
   "outputs": [
    {
     "name": "stdout",
     "output_type": "stream",
     "text": [
      "0\n",
      "0\n"
     ]
    }
   ],
   "source": [
    "for i in idade:\n",
    "    if i < 18:\n",
    "        print(i)\n"
   ]
  },
  {
   "cell_type": "markdown",
   "metadata": {},
   "source": [
    "OBS: Como vimos acima, há 2 clientes com idade abaixo de 18, e as idades deles são 0, isso é um erro. Não a pessoas com 0 anos capaz de ser cliente. "
   ]
  },
  {
   "cell_type": "markdown",
   "metadata": {},
   "source": [
    "Vamos ver apartir de que idades os clientes passam a ser outliers"
   ]
  },
  {
   "cell_type": "code",
   "execution_count": 22,
   "metadata": {},
   "outputs": [
    {
     "name": "stdout",
     "output_type": "stream",
     "text": [
      "Limite inferior -10.5\n",
      "Limite superior 89.5\n"
     ]
    }
   ],
   "source": [
    "# Calcular Q1, Q3 e IQR\n",
    "idade_Q1 = idade.quantile(0.25)\n",
    "idade_Q3 = idade.quantile(0.75)\n",
    "idade_IQR = idade_Q3 - idade_Q1\n",
    "\n",
    "idade_limite_inferior = idade_Q1 - 1.5 * idade_IQR\n",
    "idade_limite_superior = idade_Q3 + 1.5 * idade_IQR\n",
    "\n",
    "print(\"Limite inferior\", idade_limite_inferior)\n",
    "print(\"Limite superior\", idade_limite_superior)\n"
   ]
  },
  {
   "cell_type": "markdown",
   "metadata": {},
   "source": [
    "OBS: No caso o limite inferior, está pegando uma idade que não existe, e como vimos no texto acima possuem 2 clientes apenas com idade inferior a 18 anos e tem a idade = 0, então com isso vamos eliminar os clientes abaixo de 18 anos também  "
   ]
  },
  {
   "cell_type": "markdown",
   "metadata": {},
   "source": [
    "Agora vamos filtrar os clientes com idades superiores e inferiores aos limites calculados acima, junto com os clientes menores de 18 anos."
   ]
  },
  {
   "cell_type": "code",
   "execution_count": 30,
   "metadata": {},
   "outputs": [
    {
     "name": "stdout",
     "output_type": "stream",
     "text": [
      "\n",
      "descrição dos outliers: \n",
      "count     14.000000\n",
      "mean     466.142857\n",
      "std      317.683407\n",
      "min        0.000000\n",
      "25%      255.250000\n",
      "50%      432.000000\n",
      "75%      715.250000\n",
      "max      987.000000\n",
      "Name: Idade, dtype: float64\n",
      "\n",
      "descrição do df tratado: \n",
      "count    47821.000000\n",
      "mean        39.361201\n",
      "std         13.975814\n",
      "min         18.000000\n",
      "25%         27.000000\n",
      "50%         38.000000\n",
      "75%         52.000000\n",
      "max         87.000000\n",
      "Name: Idade, dtype: float64\n"
     ]
    }
   ],
   "source": [
    "idade_outliers_line = df[(idade < idade_limite_inferior) | (idade > idade_limite_superior) | (idade < 18)]\n",
    "idade_sem_outliers = df[(idade >= idade_limite_inferior) & (idade <= idade_limite_superior) & (idade >= 18)]\n",
    "print('\\ndescrição dos outliers: ')\n",
    "print(idade_outliers_line['Idade'].describe())\n",
    "print('\\ndescrição do df tratado: ')\n",
    "print(idade_sem_outliers['Idade'].describe())\n"
   ]
  },
  {
   "cell_type": "markdown",
   "metadata": {},
   "source": [
    "Executando novamente o boxplot, uma vizualização melhor sobre os outliers, podemos ver que não apresenta mais nenhum:"
   ]
  },
  {
   "cell_type": "code",
   "execution_count": 33,
   "metadata": {},
   "outputs": [
    {
     "data": {
      "image/png": "[encoded data removed]",
      "text/plain": [
       "<Figure size 640x480 with 1 Axes>"
      ]
     },
     "metadata": {},
     "output_type": "display_data"
    }
   ],
   "source": [
    "import matplotlib.pyplot as plt\n",
    "\n",
    "plt.boxplot(idade_sem_outliers['Idade'])\n",
    "plt.title(\"Boxplot da Idade\")\n",
    "plt.xlabel(\"Idade\")\n",
    "plt.show()\n"
   ]
  },
  {
   "cell_type": "markdown",
   "metadata": {},
   "source": [
    "##### Analise dos Outliers da \"Idade\" com relação ao \"Ticket Medio\"\n",
    "Respondendo:\n",
    "É possível identificar algo em relação ao ticket médio de vendas relacionadas a esses Outliers? Justifique sua resposta."
   ]
  },
  {
   "cell_type": "markdown",
   "metadata": {},
   "source": [
    "Executando o gráfico scatter, podemos analisar como o ticket médio se comporta comparado com a idade referente aos outliers da coluna idade"
   ]
  },
  {
   "cell_type": "code",
   "execution_count": 11,
   "metadata": {},
   "outputs": [
    {
     "data": {
      "image/png": "[encoded data removed]",
      "text/plain": [
       "<Figure size 1000x600 with 1 Axes>"
      ]
     },
     "metadata": {},
     "output_type": "display_data"
    }
   ],
   "source": [
    "import matplotlib.pyplot as plt\n",
    "\n",
    "# Supondo que as colunas sejam chamadas 'idade' e 'ticket_medio'\n",
    "plt.figure(figsize=(10, 6))\n",
    "plt.scatter(idade_outliers_line['Idade'], idade_outliers_line['valor ticket médio'], alpha=0.6, color='b', edgecolors='k')\n",
    "plt.title('Comparação entre Idade e Valor do Ticket Médio')\n",
    "plt.xlabel('Idade')\n",
    "plt.ylabel('Ticket Médio')\n",
    "plt.grid(True)\n",
    "plt.show()"
   ]
  },
  {
   "cell_type": "markdown",
   "metadata": {},
   "source": [
    "OBS: Podemos analisar acima que a maior parte do ticket médio está com um valor negativo (coisa que não deveria existir, porque ticket médio negativo, representa um erro que deverá ser tratado), poucos valores estão \"corretos\" ticket médio > 0"
   ]
  },
  {
   "cell_type": "markdown",
   "metadata": {},
   "source": [
    "Abaixo usando a função corr, podemos analisar o grau de correlação das colunas ticket médio e idade, cores quentes representando alto grau de correlação e cores frias baixo. Podemos ver que o grau de correlação é muito baixo, mostrando que não possui nenhum padrão/correlação entre as duas colunas  "
   ]
  },
  {
   "cell_type": "code",
   "execution_count": 12,
   "metadata": {},
   "outputs": [
    {
     "data": {
      "image/png": "[encoded data removed]",
      "text/plain": [
       "<Figure size 640x480 with 2 Axes>"
      ]
     },
     "metadata": {},
     "output_type": "display_data"
    }
   ],
   "source": [
    "import seaborn as sns\n",
    "int_cols = df[['Idade','valor ticket médio']]\n",
    "correlacoes = int_cols.corr()\n",
    "sns.heatmap(correlacoes, annot=True, cmap=\"coolwarm\")\n",
    "plt.title(\"Mapa de Calor das Correlações\")\n",
    "plt.show()\n"
   ]
  },
  {
   "cell_type": "markdown",
   "metadata": {},
   "source": [
    "### 3) Em relação à consistência do dado valor ticket médio, o que é possível refletir sobre seus conteúdos? Existem dados inconsistentes? Justifique como é possível corrigi-los e realize essa importante atividade, deixando esses dados prontos para análise."
   ]
  },
  {
   "cell_type": "markdown",
   "metadata": {},
   "source": [
    "##### Analise \"Ticket Medio\""
   ]
  },
  {
   "cell_type": "markdown",
   "metadata": {},
   "source": [
    "Pode se ver que utilizei o data frame \"idade_sem_outliers\", pois como queremos tratar todo o df, vamos utilizar o data frame tratado anteriormente pela idade"
   ]
  },
  {
   "cell_type": "code",
   "execution_count": 47,
   "metadata": {},
   "outputs": [
    {
     "data": {
      "text/html": [
       "<div>\n",
       "<style scoped>\n",
       "    .dataframe tbody tr th:only-of-type {\n",
       "        vertical-align: middle;\n",
       "    }\n",
       "\n",
       "    .dataframe tbody tr th {\n",
       "        vertical-align: top;\n",
       "    }\n",
       "\n",
       "    .dataframe thead th {\n",
       "        text-align: right;\n",
       "    }\n",
       "</style>\n",
       "<table border=\"1\" class=\"dataframe\">\n",
       "  <thead>\n",
       "    <tr style=\"text-align: right;\">\n",
       "      <th></th>\n",
       "      <th>Idade</th>\n",
       "      <th>valor ticket médio</th>\n",
       "    </tr>\n",
       "  </thead>\n",
       "  <tbody>\n",
       "    <tr>\n",
       "      <th>count</th>\n",
       "      <td>47821.000000</td>\n",
       "      <td>47821.000000</td>\n",
       "    </tr>\n",
       "    <tr>\n",
       "      <th>mean</th>\n",
       "      <td>39.361201</td>\n",
       "      <td>236.541143</td>\n",
       "    </tr>\n",
       "    <tr>\n",
       "      <th>std</th>\n",
       "      <td>13.975814</td>\n",
       "      <td>166.059188</td>\n",
       "    </tr>\n",
       "    <tr>\n",
       "      <th>min</th>\n",
       "      <td>18.000000</td>\n",
       "      <td>-9876.000000</td>\n",
       "    </tr>\n",
       "    <tr>\n",
       "      <th>25%</th>\n",
       "      <td>27.000000</td>\n",
       "      <td>118.000000</td>\n",
       "    </tr>\n",
       "    <tr>\n",
       "      <th>50%</th>\n",
       "      <td>38.000000</td>\n",
       "      <td>183.000000</td>\n",
       "    </tr>\n",
       "    <tr>\n",
       "      <th>75%</th>\n",
       "      <td>52.000000</td>\n",
       "      <td>345.000000</td>\n",
       "    </tr>\n",
       "    <tr>\n",
       "      <th>max</th>\n",
       "      <td>87.000000</td>\n",
       "      <td>690.000000</td>\n",
       "    </tr>\n",
       "  </tbody>\n",
       "</table>\n",
       "</div>"
      ],
      "text/plain": [
       "              Idade  valor ticket médio\n",
       "count  47821.000000        47821.000000\n",
       "mean      39.361201          236.541143\n",
       "std       13.975814          166.059188\n",
       "min       18.000000        -9876.000000\n",
       "25%       27.000000          118.000000\n",
       "50%       38.000000          183.000000\n",
       "75%       52.000000          345.000000\n",
       "max       87.000000          690.000000"
      ]
     },
     "execution_count": 47,
     "metadata": {},
     "output_type": "execute_result"
    }
   ],
   "source": [
    "ticket_medio = idade_sem_outliers['valor ticket médio']\n",
    "idade_sem_outliers[['Idade','valor ticket médio']].describe()\n",
    "# df[['Idade','valor ticket médio']].describe()"
   ]
  },
  {
   "cell_type": "markdown",
   "metadata": {},
   "source": [
    "Como boxplot podemos ver que apresenta muitos outliers, tanto pra baixo como pra cima"
   ]
  },
  {
   "cell_type": "code",
   "execution_count": 17,
   "metadata": {},
   "outputs": [
    {
     "data": {
      "image/png": "[encoded data removed]",
      "text/plain": [
       "<Figure size 640x480 with 1 Axes>"
      ]
     },
     "metadata": {},
     "output_type": "display_data"
    }
   ],
   "source": [
    "import matplotlib.pyplot as plt\n",
    "\n",
    "plt.boxplot(ticket_medio)\n",
    "plt.title(\"Boxplot da Ticket Médio\")\n",
    "plt.title(\"Boxplot da Ticket Médio\")\n",
    "plt.xlabel(\"Ticket Médio\")\n",
    "plt.show()"
   ]
  },
  {
   "cell_type": "markdown",
   "metadata": {},
   "source": [
    "Descobrindo o menor valor dos valores validos (OBS: ticket médio deve ser maior do que 0, então descobrirei o menor valor que seja maior que 0) "
   ]
  },
  {
   "cell_type": "code",
   "execution_count": 58,
   "metadata": {},
   "outputs": [],
   "source": [
    "v_validos = []\n",
    "for i in ticket_medio:\n",
    "    if i > 0:\n",
    "        v_validos.append(i) \n",
    "min_valido = min(v_validos)"
   ]
  },
  {
   "cell_type": "markdown",
   "metadata": {},
   "source": [
    "Após achar o minimo dos valores validos, vamos ajustar caso o ticket_medio_limite_inferior for menor do que esse valor. Com isso a gente faz um filtro, tirando os outliers e os valores inconsistente referentes ao ticket médio. Veja que utilizamos o mesmo método do quartil, para tirar os outliers da coluna idade.\n"
   ]
  },
  {
   "cell_type": "code",
   "execution_count": 59,
   "metadata": {},
   "outputs": [
    {
     "name": "stdout",
     "output_type": "stream",
     "text": [
      "Outliers\n",
      "                                Data        Idade  valor ticket médio\n",
      "count                           4547  4547.000000         4547.000000\n",
      "mean   2023-11-23 19:58:21.825379072    49.563229          569.036728\n",
      "min              2023-09-01 00:00:00    21.000000        -9876.000000\n",
      "25%              2023-10-23 00:00:00    47.000000          515.000000\n",
      "50%              2023-11-19 00:00:00    50.000000          575.000000\n",
      "75%              2023-12-16 00:00:00    52.000000          632.500000\n",
      "max              2024-05-01 00:00:00    69.000000          690.000000\n",
      "std                              NaN     3.383033          189.975497\n",
      "\n",
      " DF Sem Outlier\n",
      "                                Data         Idade  valor ticket médio\n",
      "count                          43274  43274.000000        43274.000000\n",
      "mean   2023-11-22 13:04:07.409529856     38.289227          201.604289\n",
      "min              2023-09-01 00:00:00     18.000000           15.000000\n",
      "25%              2023-10-22 00:00:00     26.000000          114.000000\n",
      "50%              2023-11-17 00:00:00     35.000000          170.000000\n",
      "75%              2023-12-16 00:00:00     51.000000          293.000000\n",
      "max              2024-05-01 00:00:00     87.000000          458.000000\n",
      "std                              NaN     14.232334          117.662750\n"
     ]
    }
   ],
   "source": [
    "# Calcular Q1, Q3 e IQR\n",
    "ticket_medio_Q1 = ticket_medio.quantile(0.25)\n",
    "ticket_medio_Q3 = ticket_medio.quantile(0.75)\n",
    "ticket_medio_IQR = ticket_medio_Q3 - ticket_medio_Q1\n",
    "\n",
    "ticket_medio_limite_inferior = max(ticket_medio_Q1 - 1.5 * ticket_medio_IQR, min_valido)\n",
    "ticket_medio_limite_superior = ticket_medio_Q1 + 1.5 * ticket_medio_IQR\n",
    "\n",
    "\n",
    "\n",
    "ticket_medio_outliers_line = idade_sem_outliers[(ticket_medio < ticket_medio_limite_inferior) | (ticket_medio > ticket_medio_limite_superior)]\n",
    "df_limpo = idade_sem_outliers[(ticket_medio >= ticket_medio_limite_inferior) & (ticket_medio <= ticket_medio_limite_superior)]\n",
    "\n",
    "print('Outliers')\n",
    "print(ticket_medio_outliers_line[['Data', 'Idade', 'valor ticket médio']].describe())\n",
    "print('\\n DF Sem Outlier')\n",
    "print(df_limpo[['Data', 'Idade', 'valor ticket médio']].describe())"
   ]
  },
  {
   "cell_type": "markdown",
   "metadata": {},
   "source": [
    "### 4)    A área comercial da Melhores Compras criou um conjunto de faixa etária para tentar compreender melhor o perfil do cliente, mas não conseguiu até o momento chegar a lugar algum. Veja as faixas determinadas:\n",
    "\n",
    "entre 18 e 24 anos;\n",
    "entre 25 e 34 anos;\n",
    "entre 35 e 44 anos;\n",
    "entre 45 e 54 anos;\n",
    "entre 55 e 64 anos;\n",
    "com mais de 65 anos.\n",
    " \n",
    "\n",
    "Sendo assim, após aplicar a limpeza e tratamento nos dados, tente contribuir com o departamento comercial gerando informações que auxiliem a tomada de decisão, como valor do ticket médio por faixa etária, idade média dos clientes selecionados, variância da idade, desvio padrão da idade, valor médio e mediana por idade ou faixa etária e ranking das vendas por faixa etária são alguns exemplos de contribuição. Por fim, faça uma análise sobre o resultado alcançado e apresente recomendações para o departamento comercial sobre possíveis ações que podem ser feitas sobre o que foi identificado. "
   ]
  },
  {
   "cell_type": "code",
   "execution_count": 112,
   "metadata": {},
   "outputs": [
    {
     "data": {
      "text/plain": [
       "0     18-24\n",
       "10    45-54\n",
       "25    25-34\n",
       "26      65+\n",
       "27    35-44\n",
       "47    55-64\n",
       "Name: categoria_idade, dtype: object"
      ]
     },
     "execution_count": 112,
     "metadata": {},
     "output_type": "execute_result"
    }
   ],
   "source": [
    "# Criar a coluna 'categoria_idade' com base nas faixas etárias\n",
    "df_limpo.loc[:, 'categoria_idade'] = None \n",
    "\n",
    "# Definindo as condições para as faixas etárias\n",
    "df_limpo.loc[(df_limpo['Idade'] >= 18) & (df_limpo['Idade'] <= 24), 'categoria_idade'] = '18-24'\n",
    "df_limpo.loc[(df_limpo['Idade'] >= 25) & (df_limpo['Idade'] <= 34), 'categoria_idade'] = '25-34'\n",
    "df_limpo.loc[(df_limpo['Idade'] >= 35) & (df_limpo['Idade'] <= 44), 'categoria_idade'] = '35-44'\n",
    "df_limpo.loc[(df_limpo['Idade'] >= 45) & (df_limpo['Idade'] <= 54), 'categoria_idade'] = '45-54'\n",
    "df_limpo.loc[(df_limpo['Idade'] >= 55) & (df_limpo['Idade'] <= 64), 'categoria_idade'] = '55-64'\n",
    "df_limpo.loc[df_limpo['Idade'] >= 65, 'categoria_idade'] = '65+'\n",
    "\n",
    "df_categorias = df_limpo['categoria_idade'].drop_duplicates()\n",
    "df_categorias"
   ]
  },
  {
   "cell_type": "code",
   "execution_count": 108,
   "metadata": {},
   "outputs": [
    {
     "name": "stdout",
     "output_type": "stream",
     "text": [
      "\n",
      "Métricas Consolidada por Faixa Etária:\n"
     ]
    },
    {
     "data": {
      "text/html": [
       "<div>\n",
       "<style scoped>\n",
       "    .dataframe tbody tr th:only-of-type {\n",
       "        vertical-align: middle;\n",
       "    }\n",
       "\n",
       "    .dataframe tbody tr th {\n",
       "        vertical-align: top;\n",
       "    }\n",
       "\n",
       "    .dataframe thead th {\n",
       "        text-align: right;\n",
       "    }\n",
       "</style>\n",
       "<table border=\"1\" class=\"dataframe\">\n",
       "  <thead>\n",
       "    <tr style=\"text-align: right;\">\n",
       "      <th></th>\n",
       "      <th>categoria_idade</th>\n",
       "      <th>Ticket Médio (Média)</th>\n",
       "      <th>Ticket Médio (Mediana)</th>\n",
       "      <th>Total de Vendas</th>\n",
       "      <th>Desvio Padrão do Ticket Médio</th>\n",
       "      <th>Variância do Ticket Médio</th>\n",
       "      <th>Idade Média</th>\n",
       "      <th>Número de Registros</th>\n",
       "    </tr>\n",
       "  </thead>\n",
       "  <tbody>\n",
       "    <tr>\n",
       "      <th>0</th>\n",
       "      <td>18-24</td>\n",
       "      <td>67.514137</td>\n",
       "      <td>68.0</td>\n",
       "      <td>570697</td>\n",
       "      <td>30.729676</td>\n",
       "      <td>944.313010</td>\n",
       "      <td>21.0</td>\n",
       "      <td>8453</td>\n",
       "    </tr>\n",
       "    <tr>\n",
       "      <th>1</th>\n",
       "      <td>25-34</td>\n",
       "      <td>170.556666</td>\n",
       "      <td>170.0</td>\n",
       "      <td>2134005</td>\n",
       "      <td>47.159103</td>\n",
       "      <td>2223.980963</td>\n",
       "      <td>29.0</td>\n",
       "      <td>12512</td>\n",
       "    </tr>\n",
       "    <tr>\n",
       "      <th>2</th>\n",
       "      <td>35-44</td>\n",
       "      <td>356.403997</td>\n",
       "      <td>357.0</td>\n",
       "      <td>3370869</td>\n",
       "      <td>59.106792</td>\n",
       "      <td>3493.612914</td>\n",
       "      <td>39.0</td>\n",
       "      <td>9458</td>\n",
       "    </tr>\n",
       "    <tr>\n",
       "      <th>3</th>\n",
       "      <td>45-54</td>\n",
       "      <td>373.554778</td>\n",
       "      <td>375.5</td>\n",
       "      <td>1227501</td>\n",
       "      <td>49.691632</td>\n",
       "      <td>2469.258338</td>\n",
       "      <td>50.0</td>\n",
       "      <td>3286</td>\n",
       "    </tr>\n",
       "    <tr>\n",
       "      <th>4</th>\n",
       "      <td>55-64</td>\n",
       "      <td>153.301118</td>\n",
       "      <td>153.0</td>\n",
       "      <td>1316550</td>\n",
       "      <td>24.842270</td>\n",
       "      <td>617.138385</td>\n",
       "      <td>59.0</td>\n",
       "      <td>8588</td>\n",
       "    </tr>\n",
       "    <tr>\n",
       "      <th>5</th>\n",
       "      <td>65+</td>\n",
       "      <td>107.064483</td>\n",
       "      <td>107.0</td>\n",
       "      <td>104602</td>\n",
       "      <td>15.108316</td>\n",
       "      <td>228.261207</td>\n",
       "      <td>66.0</td>\n",
       "      <td>977</td>\n",
       "    </tr>\n",
       "  </tbody>\n",
       "</table>\n",
       "</div>"
      ],
      "text/plain": [
       "  categoria_idade  Ticket Médio (Média)  Ticket Médio (Mediana)  \\\n",
       "0           18-24             67.514137                    68.0   \n",
       "1           25-34            170.556666                   170.0   \n",
       "2           35-44            356.403997                   357.0   \n",
       "3           45-54            373.554778                   375.5   \n",
       "4           55-64            153.301118                   153.0   \n",
       "5             65+            107.064483                   107.0   \n",
       "\n",
       "   Total de Vendas  Desvio Padrão do Ticket Médio  Variância do Ticket Médio  \\\n",
       "0           570697                      30.729676                 944.313010   \n",
       "1          2134005                      47.159103                2223.980963   \n",
       "2          3370869                      59.106792                3493.612914   \n",
       "3          1227501                      49.691632                2469.258338   \n",
       "4          1316550                      24.842270                 617.138385   \n",
       "5           104602                      15.108316                 228.261207   \n",
       "\n",
       "   Idade Média  Número de Registros  \n",
       "0         21.0                 8453  \n",
       "1         29.0                12512  \n",
       "2         39.0                 9458  \n",
       "3         50.0                 3286  \n",
       "4         59.0                 8588  \n",
       "5         66.0                  977  "
      ]
     },
     "execution_count": 108,
     "metadata": {},
     "output_type": "execute_result"
    }
   ],
   "source": [
    "# Para calcular as métricas por faixa etária (como ticket médio, idade média, etc.), você pode fazer o seguinte:\n",
    "faixa_etaria_metrics = df_limpo.groupby('categoria_idade')['valor ticket médio'].agg([\n",
    "    'mean',   # ticket médio\n",
    "    'median', # mediana\n",
    "    'sum',    # total de vendas\n",
    "    'std',    # desvio padrão do ticket médio\n",
    "    'var',    # variância do ticket médio\n",
    "]).reset_index()\n",
    "\n",
    "# Adicionar idade média para cada faixa etária\n",
    "faixa_etaria_metrics['idade_media'] = df_limpo.groupby('categoria_idade')['Idade'].mean().values.round()\n",
    "\n",
    "# Adicionar o número de registros para cada faixa etária\n",
    "faixa_etaria_metrics['numero_registros'] = df_limpo.groupby('categoria_idade').size().values\n",
    "\n",
    "# Renomear as colunas para tornar mais amigável\n",
    "faixa_etaria_metrics.rename(columns={\n",
    "    'mean': 'Ticket Médio (Média)',\n",
    "    'median': 'Ticket Médio (Mediana)',\n",
    "    'sum': 'Total de Vendas',\n",
    "    'std': 'Desvio Padrão do Ticket Médio',\n",
    "    'var': 'Variância do Ticket Médio',\n",
    "    'idade_media': 'Idade Média',\n",
    "    'numero_registros': 'Número de Registros',\n",
    "\n",
    "}, inplace=True)\n",
    "\n",
    "# Exibir as métricas consolidadas por faixa etária\n",
    "print(\"\\nMétricas Consolidada por Faixa Etária:\")\n",
    "faixa_etaria_metrics\n"
   ]
  }
 ],
 "metadata": {
  "kernelspec": {
   "display_name": "Python 3",
   "language": "python",
   "name": "python3"
  },
  "language_info": {
   "codemirror_mode": {
    "name": "ipython",
    "version": 3
   },
   "file_extension": ".py",
   "mimetype": "text/x-python",
   "name": "python",
   "nbconvert_exporter": "python",
   "pygments_lexer": "ipython3",
   "version": "3.12.3"
  }
 },
 "nbformat": 4,
 "nbformat_minor": 2
}
